{
 "cells": [
  {
   "cell_type": "code",
   "execution_count": 92,
   "id": "5986ca76-c197-4478-a68d-12119d76c657",
   "metadata": {},
   "outputs": [],
   "source": [
    "from scipy.spatial import distance\n",
    "import pandas as pd\n",
    "import numpy as np\n",
    "import matplotlib.pyplot as plt\n",
    "from sklearn.model_selection import train_test_split\n",
    "from sklearn.metrics.pairwise import euclidean_distances, manhattan_distances, pairwise_distances # for calculating the distances\n",
    "from sklearn.metrics import jaccard_score # for calculating the jaccard_score\n",
    "\n",
    "df = pd.read_csv(r\"D:\\Supervised Machine Learning lab (SMLL)\\2\\Practice dataset 1 Product performance.csv\")\n",
    "df.head() \n",
    "\n",
    "df1=df[['Ambience','Customer_service','Offers']]\n",
    "df1.head()\n",
    "\n",
    "point_1 = df['Ambience']\n",
    "point_1 = point_1[:5]\n",
    "point_2 = df['Customer_service']\n",
    "point_2 = point_2[:5]"
   ]
  },
  {
   "cell_type": "code",
   "execution_count": 94,
   "id": "89b6cb34-f23e-4f0e-8bc8-c2b0e648ccae",
   "metadata": {},
   "outputs": [
    {
     "name": "stdout",
     "output_type": "stream",
     "text": [
      "Euclidean Distance between 0    0.50\n",
      "1   -0.14\n",
      "2    0.65\n",
      "3    1.52\n",
      "4   -0.23\n",
      "Name: Ambience, dtype: float64 and 0    1.40\n",
      "1    0.92\n",
      "2    0.06\n",
      "3   -0.65\n",
      "4    0.70\n",
      "Name: Customer_service, dtype: float64 is : 2.802766490451889\n"
     ]
    }
   ],
   "source": [
    "# computing the euclidean distance\n",
    "euclidean_distance = distance.euclidean(point_1, point_2)\n",
    "print(f\"Euclidean Distance between {point_1} and {point_2} is :\", euclidean_distance)"
   ]
  },
  {
   "cell_type": "code",
   "execution_count": 96,
   "id": "7d5005dc-cadb-4eb8-8908-ff6e168d7775",
   "metadata": {},
   "outputs": [
    {
     "name": "stdout",
     "output_type": "stream",
     "text": [
      "Minkowski Distance between 0    0.50\n",
      "1   -0.14\n",
      "2    0.65\n",
      "3    1.52\n",
      "4   -0.23\n",
      "Name: Ambience, dtype: float64 and 0    1.40\n",
      "1    0.92\n",
      "2    0.06\n",
      "3   -0.65\n",
      "4    0.70\n",
      "Name: Customer_service, dtype: float64 is : 2.360227941691184\n"
     ]
    }
   ],
   "source": [
    "# computing the Minkowski distance\n",
    "minkowski_distance = distance.minkowski(point_1,point_2,p=3)\n",
    "print(f\"Minkowski Distance between {point_1} and {point_2} is :\", minkowski_distance)"
   ]
  },
  {
   "cell_type": "code",
   "execution_count": 98,
   "id": "54358e27-d0cb-4a3e-9ec8-cec264258e42",
   "metadata": {},
   "outputs": [
    {
     "name": "stdout",
     "output_type": "stream",
     "text": [
      "manhattan_distance b/w 0    0.50\n",
      "1   -0.14\n",
      "2    0.65\n",
      "3    1.52\n",
      "4   -0.23\n",
      "Name: Ambience, dtype: float64 and 0    1.40\n",
      "1    0.92\n",
      "2    0.06\n",
      "3   -0.65\n",
      "4    0.70\n",
      "Name: Customer_service, dtype: float64 is:  5.6499999999999995\n"
     ]
    }
   ],
   "source": [
    "# computing the Manhattan distance\n",
    "manhattan_distance = distance.cityblock(point_1,point_2)\n",
    "print(\"manhattan_distance b/w\", point_1,'and',point_2,'is: ',manhattan_distance)"
   ]
  },
  {
   "cell_type": "code",
   "execution_count": 100,
   "id": "f85c2550-2899-484f-a223-c7ea2a22c7bf",
   "metadata": {},
   "outputs": [
    {
     "name": "stdout",
     "output_type": "stream",
     "text": [
      "Hamming Distance between euclidean and Minkowski is : 9.0\n"
     ]
    }
   ],
   "source": [
    "# computing the Hamming distance\n",
    "string_1 = 'euclidean'\n",
    "string_2 = 'Minkowski'\n",
    "hamming_distance = distance.hamming(list(string_1), list(string_2))*len(string_1)\n",
    "print(f\"Hamming Distance between {string_1} and {string_2} is :\", hamming_distance)"
   ]
  },
  {
   "cell_type": "code",
   "execution_count": 102,
   "id": "db228ded-4edf-4029-9379-826678220c79",
   "metadata": {},
   "outputs": [
    {
     "name": "stdout",
     "output_type": "stream",
     "text": [
      "Euclidean Distance Matrix (scikit-learn):\n",
      " [[0.00000000e+00 9.65194281e-01 1.35284885e+00 ... 2.35193537e+00\n",
      "  2.14443466e+00 2.20338376e+00]\n",
      " [9.65194281e-01 0.00000000e+00 1.33648793e+00 ... 2.24908870e+00\n",
      "  1.25387400e+00 1.80557470e+00]\n",
      " [1.35284885e+00 1.33648793e+00 2.10734243e-08 ... 1.04220919e+00\n",
      "  1.67068848e+00 1.02142058e+00]\n",
      " ...\n",
      " [2.35193537e+00 2.24908870e+00 1.04220919e+00 ... 0.00000000e+00\n",
      "  2.10888596e+00 1.09128365e+00]\n",
      " [2.14443466e+00 1.25387400e+00 1.67068848e+00 ... 2.10888596e+00\n",
      "  0.00000000e+00 1.36970800e+00]\n",
      " [2.20338376e+00 1.80557470e+00 1.02142058e+00 ... 1.09128365e+00\n",
      "  1.36970800e+00 0.00000000e+00]]\n"
     ]
    }
   ],
   "source": [
    "# Euclidean distance\n",
    "euclidean_dist = pairwise_distances(df1, metric='euclidean')\n",
    "print(\"Euclidean Distance Matrix (scikit-learn):\\n\", euclidean_dist)\n"
   ]
  },
  {
   "cell_type": "code",
   "execution_count": 104,
   "id": "c305fa30-d600-4a01-a461-46d2c45ff975",
   "metadata": {},
   "outputs": [
    {
     "name": "stdout",
     "output_type": "stream",
     "text": [
      "\n",
      "Manhattan Distance Matrix (scikit-learn):\n",
      " [[0.   1.66 1.6  ... 2.98 3.64 2.73]\n",
      " [1.66 0.   2.3  ... 3.68 1.98 2.39]\n",
      " [1.6  2.3  0.   ... 1.4  2.56 1.51]\n",
      " ...\n",
      " [2.98 3.68 1.4  ... 0.   3.5  1.29]\n",
      " [3.64 1.98 2.56 ... 3.5  0.   2.21]\n",
      " [2.73 2.39 1.51 ... 1.29 2.21 0.  ]]\n"
     ]
    },
    {
     "name": "stdin",
     "output_type": "stream",
     "text": [
      "Enter the parameter that defines the distance metric:  2\n"
     ]
    },
    {
     "name": "stdout",
     "output_type": "stream",
     "text": [
      "\n",
      "Minkowski Distance Matrix (p=3, scikit-learn):\n",
      " [[0.         0.96519428 1.35284885 ... 2.35193537 2.14443466 2.20338376]\n",
      " [0.96519428 0.         1.33648793 ... 2.2490887  1.253874   1.8055747 ]\n",
      " [1.35284885 1.33648793 0.         ... 1.04220919 1.67068848 1.02142058]\n",
      " ...\n",
      " [2.35193537 2.2490887  1.04220919 ... 0.         2.10888596 1.09128365]\n",
      " [2.14443466 1.253874   1.67068848 ... 2.10888596 0.         1.369708  ]\n",
      " [2.20338376 1.8055747  1.02142058 ... 1.09128365 1.369708   0.        ]]\n"
     ]
    }
   ],
   "source": [
    "# Manhattan distance\n",
    "manhattan_dist_sklearn = pairwise_distances(df1, metric='manhattan')\n",
    "print(\"\\nManhattan Distance Matrix (scikit-learn):\\n\", manhattan_dist_sklearn)\n",
    "p = int(input(\"Enter the parameter that defines the distance metric: \")) # taking input of the parameter which defines the distance metric\n",
    "minkowski_dist_sklearn = pairwise_distances(df1, metric='minkowski', p=p)\n",
    "print(\"\\nMinkowski Distance Matrix (p=3, scikit-learn):\\n\", minkowski_dist_sklearn)\n"
   ]
  },
  {
   "cell_type": "code",
   "execution_count": 106,
   "id": "c1d306e3-36fb-473e-a46b-b333806ca414",
   "metadata": {},
   "outputs": [],
   "source": [
    "# Randomly generating a boolean value dataset\n",
    "num_samples = 10\n",
    "num_features = 5"
   ]
  },
  {
   "cell_type": "code",
   "execution_count": 108,
   "id": "2cb8be54-82fc-44c5-bc17-159b8063b580",
   "metadata": {},
   "outputs": [
    {
     "data": {
      "text/html": [
       "<div>\n",
       "<style scoped>\n",
       "    .dataframe tbody tr th:only-of-type {\n",
       "        vertical-align: middle;\n",
       "    }\n",
       "\n",
       "    .dataframe tbody tr th {\n",
       "        vertical-align: top;\n",
       "    }\n",
       "\n",
       "    .dataframe thead th {\n",
       "        text-align: right;\n",
       "    }\n",
       "</style>\n",
       "<table border=\"1\" class=\"dataframe\">\n",
       "  <thead>\n",
       "    <tr style=\"text-align: right;\">\n",
       "      <th></th>\n",
       "      <th>Feature_1</th>\n",
       "      <th>Feature_2</th>\n",
       "      <th>Feature_3</th>\n",
       "      <th>Feature_4</th>\n",
       "      <th>Feature_5</th>\n",
       "    </tr>\n",
       "  </thead>\n",
       "  <tbody>\n",
       "    <tr>\n",
       "      <th>0</th>\n",
       "      <td>1</td>\n",
       "      <td>0</td>\n",
       "      <td>0</td>\n",
       "      <td>0</td>\n",
       "      <td>0</td>\n",
       "    </tr>\n",
       "    <tr>\n",
       "      <th>1</th>\n",
       "      <td>1</td>\n",
       "      <td>0</td>\n",
       "      <td>1</td>\n",
       "      <td>0</td>\n",
       "      <td>0</td>\n",
       "    </tr>\n",
       "    <tr>\n",
       "      <th>2</th>\n",
       "      <td>0</td>\n",
       "      <td>0</td>\n",
       "      <td>0</td>\n",
       "      <td>1</td>\n",
       "      <td>0</td>\n",
       "    </tr>\n",
       "    <tr>\n",
       "      <th>3</th>\n",
       "      <td>1</td>\n",
       "      <td>1</td>\n",
       "      <td>1</td>\n",
       "      <td>1</td>\n",
       "      <td>0</td>\n",
       "    </tr>\n",
       "    <tr>\n",
       "      <th>4</th>\n",
       "      <td>0</td>\n",
       "      <td>1</td>\n",
       "      <td>1</td>\n",
       "      <td>1</td>\n",
       "      <td>0</td>\n",
       "    </tr>\n",
       "    <tr>\n",
       "      <th>5</th>\n",
       "      <td>1</td>\n",
       "      <td>0</td>\n",
       "      <td>0</td>\n",
       "      <td>1</td>\n",
       "      <td>0</td>\n",
       "    </tr>\n",
       "    <tr>\n",
       "      <th>6</th>\n",
       "      <td>1</td>\n",
       "      <td>0</td>\n",
       "      <td>1</td>\n",
       "      <td>1</td>\n",
       "      <td>0</td>\n",
       "    </tr>\n",
       "    <tr>\n",
       "      <th>7</th>\n",
       "      <td>1</td>\n",
       "      <td>0</td>\n",
       "      <td>1</td>\n",
       "      <td>0</td>\n",
       "      <td>1</td>\n",
       "    </tr>\n",
       "    <tr>\n",
       "      <th>8</th>\n",
       "      <td>0</td>\n",
       "      <td>1</td>\n",
       "      <td>0</td>\n",
       "      <td>0</td>\n",
       "      <td>1</td>\n",
       "    </tr>\n",
       "    <tr>\n",
       "      <th>9</th>\n",
       "      <td>1</td>\n",
       "      <td>0</td>\n",
       "      <td>0</td>\n",
       "      <td>0</td>\n",
       "      <td>0</td>\n",
       "    </tr>\n",
       "  </tbody>\n",
       "</table>\n",
       "</div>"
      ],
      "text/plain": [
       "   Feature_1  Feature_2  Feature_3  Feature_4  Feature_5\n",
       "0          1          0          0          0          0\n",
       "1          1          0          1          0          0\n",
       "2          0          0          0          1          0\n",
       "3          1          1          1          1          0\n",
       "4          0          1          1          1          0\n",
       "5          1          0          0          1          0\n",
       "6          1          0          1          1          0\n",
       "7          1          0          1          0          1\n",
       "8          0          1          0          0          1\n",
       "9          1          0          0          0          0"
      ]
     },
     "execution_count": 108,
     "metadata": {},
     "output_type": "execute_result"
    }
   ],
   "source": [
    "# np.random.randint generates random integers from a specified low (inclusive) to high (exclusive) range.\n",
    "sample_data = np.random.randint(2, size=(num_samples, num_features))\n",
    "df2 = pd.DataFrame(sample_data, columns=[f'Feature_{i+1}' for i in range(num_features)])\n",
    "df2"
   ]
  },
  {
   "cell_type": "code",
   "execution_count": 110,
   "id": "34544dd6-d439-4f56-aada-401c8e07bca2",
   "metadata": {},
   "outputs": [
    {
     "data": {
      "text/html": [
       "<div>\n",
       "<style scoped>\n",
       "    .dataframe tbody tr th:only-of-type {\n",
       "        vertical-align: middle;\n",
       "    }\n",
       "\n",
       "    .dataframe tbody tr th {\n",
       "        vertical-align: top;\n",
       "    }\n",
       "\n",
       "    .dataframe thead th {\n",
       "        text-align: right;\n",
       "    }\n",
       "</style>\n",
       "<table border=\"1\" class=\"dataframe\">\n",
       "  <thead>\n",
       "    <tr style=\"text-align: right;\">\n",
       "      <th></th>\n",
       "      <th>Indexes(Sample)</th>\n",
       "      <th>Jaccard Distance</th>\n",
       "    </tr>\n",
       "  </thead>\n",
       "  <tbody>\n",
       "    <tr>\n",
       "      <th>0</th>\n",
       "      <td>(1, 2)</td>\n",
       "      <td>0.50</td>\n",
       "    </tr>\n",
       "    <tr>\n",
       "      <th>1</th>\n",
       "      <td>(1, 3)</td>\n",
       "      <td>1.00</td>\n",
       "    </tr>\n",
       "    <tr>\n",
       "      <th>2</th>\n",
       "      <td>(1, 4)</td>\n",
       "      <td>0.75</td>\n",
       "    </tr>\n",
       "    <tr>\n",
       "      <th>3</th>\n",
       "      <td>(1, 5)</td>\n",
       "      <td>1.00</td>\n",
       "    </tr>\n",
       "    <tr>\n",
       "      <th>4</th>\n",
       "      <td>(1, 6)</td>\n",
       "      <td>0.50</td>\n",
       "    </tr>\n",
       "  </tbody>\n",
       "</table>\n",
       "</div>"
      ],
      "text/plain": [
       "  Indexes(Sample)  Jaccard Distance\n",
       "0          (1, 2)              0.50\n",
       "1          (1, 3)              1.00\n",
       "2          (1, 4)              0.75\n",
       "3          (1, 5)              1.00\n",
       "4          (1, 6)              0.50"
      ]
     },
     "execution_count": 110,
     "metadata": {},
     "output_type": "execute_result"
    }
   ],
   "source": [
    "# Calulating jaccard distances\n",
    "jaccard_distances = []\n",
    "index_pairs = []\n",
    "for i in range(len(df2)):\n",
    "    for j in range(i + 1, len(df2)):\n",
    "        jaccard_distance = round(1 - jaccard_score(df2.iloc[i], df2.iloc[j]), 2)\n",
    "        index_pairs.append((i+1, j+1))\n",
    "        jaccard_distances.append(jaccard_distance)\n",
    "jaccard_df = pd.DataFrame({'Indexes(Sample)': index_pairs, 'Jaccard Distance': jaccard_distances})\n",
    "jaccard_df.head()\n"
   ]
  }
 ],
 "metadata": {
  "kernelspec": {
   "display_name": "Python [conda env:base] *",
   "language": "python",
   "name": "conda-base-py"
  },
  "language_info": {
   "codemirror_mode": {
    "name": "ipython",
    "version": 3
   },
   "file_extension": ".py",
   "mimetype": "text/x-python",
   "name": "python",
   "nbconvert_exporter": "python",
   "pygments_lexer": "ipython3",
   "version": "3.12.7"
  }
 },
 "nbformat": 4,
 "nbformat_minor": 5
}
