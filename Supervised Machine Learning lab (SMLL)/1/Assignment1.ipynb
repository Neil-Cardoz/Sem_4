{
 "cells": [
  {
   "cell_type": "code",
   "execution_count": 6,
   "metadata": {},
   "outputs": [
    {
     "name": "stdout",
     "output_type": "stream",
     "text": [
      "      0     1\n",
      "0  12.0  15.0\n",
      "1  20.5  16.0\n",
      "2  21.0  18.0\n",
      "3  15.5  27.0\n",
      "4  15.3  21.0\n"
     ]
    }
   ],
   "source": [
    "import pandas as pd\n",
    "import numpy as np\n",
    "import matplotlib.pyplot as plt\n",
    "df=pd.read_csv(r\"D:\\Supervised Machine Learning lab (SMLL)\\1\\Assignment 1 SALES.csv\",header=None,sep=r'\\s+')\n",
    "print(df.head())"
   ]
  },
  {
   "cell_type": "code",
   "execution_count": 8,
   "metadata": {},
   "outputs": [
    {
     "name": "stdout",
     "output_type": "stream",
     "text": [
      "36\n"
     ]
    }
   ],
   "source": [
    "num_rows=df.shape[0]\n",
    "print(num_rows)"
   ]
  },
  {
   "cell_type": "code",
   "execution_count": 10,
   "metadata": {},
   "outputs": [
    {
     "name": "stdout",
     "output_type": "stream",
     "text": [
      "   Advertising  Sales\n",
      "0         12.0   15.0\n",
      "1         20.5   16.0\n",
      "2         21.0   18.0\n",
      "3         15.5   27.0\n",
      "4         15.3   21.0\n"
     ]
    }
   ],
   "source": [
    "df.columns=['Advertising','Sales']\n",
    "print(df.head())"
   ]
  },
  {
   "cell_type": "code",
   "execution_count": 12,
   "metadata": {},
   "outputs": [
    {
     "name": "stdout",
     "output_type": "stream",
     "text": [
      "<class 'pandas.core.frame.DataFrame'>\n",
      "RangeIndex: 36 entries, 0 to 35\n",
      "Data columns (total 2 columns):\n",
      " #   Column       Non-Null Count  Dtype  \n",
      "---  ------       --------------  -----  \n",
      " 0   Advertising  36 non-null     float64\n",
      " 1   Sales        36 non-null     float64\n",
      "dtypes: float64(2)\n",
      "memory usage: 708.0 bytes\n",
      "None\n"
     ]
    }
   ],
   "source": [
    "print(df.info())"
   ]
  },
  {
   "cell_type": "code",
   "execution_count": 14,
   "metadata": {},
   "outputs": [
    {
     "name": "stdout",
     "output_type": "stream",
     "text": [
      "       Advertising      Sales\n",
      "count    36.000000  36.000000\n",
      "mean     24.255556  28.527778\n",
      "std       6.185118  18.777625\n",
      "min      12.000000   1.000000\n",
      "25%      20.300000  15.750000\n",
      "50%      24.250000  23.000000\n",
      "75%      28.600000  41.000000\n",
      "max      36.500000  65.000000\n"
     ]
    }
   ],
   "source": [
    "print(df.describe())"
   ]
  },
  {
   "cell_type": "code",
   "execution_count": 16,
   "metadata": {},
   "outputs": [
    {
     "name": "stdout",
     "output_type": "stream",
     "text": [
      "       Advertising      Sales\n",
      "count    36.000000  36.000000\n",
      "mean     24.255556  28.527778\n",
      "std       6.185118  18.777625\n",
      "min      12.000000   1.000000\n",
      "25%      20.300000  15.750000\n",
      "50%      24.250000  23.000000\n",
      "75%      28.600000  41.000000\n",
      "max      36.500000  65.000000\n"
     ]
    }
   ],
   "source": [
    "print(df.describe(include='all'))"
   ]
  },
  {
   "cell_type": "code",
   "execution_count": 18,
   "metadata": {},
   "outputs": [
    {
     "data": {
      "text/plain": [
       "array([12. , 20.5, 21. , 15.5, 15.3, 23.5, 24.5, 21.3, 23.5, 28. , 24. ,\n",
       "       15.5, 17.3, 25.3, 25. , 36.5, 36.5, 29.6, 30.5, 28. , 26. , 21.5,\n",
       "       19.7, 19. , 16. , 20.7, 26.5, 30.6, 32.3, 29.5, 28.3, 31.3, 32.3,\n",
       "       26.4, 23.4, 16.4])"
      ]
     },
     "execution_count": 18,
     "metadata": {},
     "output_type": "execute_result"
    }
   ],
   "source": [
    "#independent and dependent variables\n",
    "X=df['Advertising'].values\n",
    "y=df['Sales'].values\n",
    "X"
   ]
  },
  {
   "cell_type": "code",
   "execution_count": 20,
   "metadata": {},
   "outputs": [
    {
     "data": {
      "image/png": "[encoded data removed]",
      "text/plain": [
       "<Figure size 640x480 with 1 Axes>"
      ]
     },
     "metadata": {},
     "output_type": "display_data"
    }
   ],
   "source": [
    "#plot scatter plot for X and y\n",
    "plt.scatter(X,y,color='blue',label='Scatter Plot')\n",
    "plt.title('Relationship between Sales and Advertising')\n",
    "plt.xlabel('advertising')\n",
    "plt.ylabel('Sales')\n",
    "plt.legend(loc=5)\n",
    "plt.show()"
   ]
  },
  {
   "cell_type": "code",
   "execution_count": 22,
   "metadata": {},
   "outputs": [
    {
     "name": "stdout",
     "output_type": "stream",
     "text": [
      "(36,)\n",
      "(36,)\n"
     ]
    }
   ],
   "source": [
    "print(X.shape)\n",
    "print(y.shape)"
   ]
  },
  {
   "cell_type": "code",
   "execution_count": 24,
   "metadata": {},
   "outputs": [],
   "source": [
    "X=X.reshape(1,-1)\n",
    "y=y.reshape(1,-1)"
   ]
  },
  {
   "cell_type": "code",
   "execution_count": 26,
   "metadata": {},
   "outputs": [
    {
     "data": {
      "text/plain": [
       "array([[15., 16., 18., 27., 21., 49., 21., 22., 28., 36., 40.,  3., 21.,\n",
       "        29., 62., 65., 46., 44., 33., 62., 22., 12., 24.,  3.,  5., 14.,\n",
       "        36., 40., 49.,  7., 52., 65., 17.,  5., 17.,  1.]])"
      ]
     },
     "execution_count": 26,
     "metadata": {},
     "output_type": "execute_result"
    }
   ],
   "source": [
    "X\n"
   ]
  },
  {
   "cell_type": "code",
   "execution_count": 28,
   "metadata": {},
   "outputs": [
    {
     "data": {
      "text/plain": [
       "array([[15., 16., 18., 27., 21., 49., 21., 22., 28., 36., 40.,  3., 21.,\n",
       "        29., 62., 65., 46., 44., 33., 62., 22., 12., 24.,  3.,  5., 14.,\n",
       "        36., 40., 49.,  7., 52., 65., 17.,  5., 17.,  1.]])"
      ]
     },
     "execution_count": 28,
     "metadata": {},
     "output_type": "execute_result"
    }
   ],
   "source": [
    "y"
   ]
  },
  {
   "cell_type": "code",
   "execution_count": null,
   "metadata": {},
   "outputs": [],
   "source": []
  }
 ],
 "metadata": {
  "kernelspec": {
   "display_name": "Python [conda env:base] *",
   "language": "python",
   "name": "conda-base-py"
  },
  "language_info": {
   "codemirror_mode": {
    "name": "ipython",
    "version": 3
   },
   "file_extension": ".py",
   "mimetype": "text/x-python",
   "name": "python",
   "nbconvert_exporter": "python",
   "pygments_lexer": "ipython3",
   "version": "3.12.7"
  }
 },
 "nbformat": 4,
 "nbformat_minor": 4
}
